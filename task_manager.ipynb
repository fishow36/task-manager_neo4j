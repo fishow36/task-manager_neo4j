{
 "cells": [
  {
   "cell_type": "markdown",
   "metadata": {},
   "source": [
    "Как ставить написано в документации и документации.\n",
    "\n",
    "Предварительно проверьте, что у вас установлена Java 11.\n",
    "\n",
    "neo4j-admin set-initial-password ANewPassword\n",
    "\n",
    "В файле Neo4J.conf необходимо раскомментировать следующий ключ. dbms.security.auth_enabled=false Перезапускаем СУБД.\n",
    "\n",
    "Теперь заходим в админку базы данных. http://127.0.0.1:7474/"
   ]
  },
  {
   "cell_type": "code",
   "execution_count": 94,
   "metadata": {
    "collapsed": true
   },
   "outputs": [],
   "source": [
    "from neo4j import GraphDatabase\n",
    "from flask import Flask\n",
    "from flask import url_for, render_template, request, redirect\n",
    "\n",
    "import re"
   ]
  },
  {
   "cell_type": "code",
   "execution_count": 95,
   "metadata": {
    "collapsed": true
   },
   "outputs": [],
   "source": [
    "uri = \"bolt://localhost:7687\"\n",
    "driver = GraphDatabase.driver(uri, auth=(\"neo4j\", \"password\"), encrypted=False)"
   ]
  },
  {
   "cell_type": "code",
   "execution_count": 365,
   "metadata": {
    "collapsed": true
   },
   "outputs": [],
   "source": [
    "app = Flask(__name__)"
   ]
  },
  {
   "cell_type": "code",
   "execution_count": 366,
   "metadata": {
    "collapsed": true
   },
   "outputs": [],
   "source": [
    "session = {}\n",
    "session['username'] = None"
   ]
  },
  {
   "cell_type": "code",
   "execution_count": 367,
   "metadata": {
    "collapsed": true
   },
   "outputs": [],
   "source": [
    "@app.route('/home', methods=['GET', 'POST'])\n",
    "def index():\n",
    "    if session['username'] == None:\n",
    "        return render_template('home.html')\n",
    "    else:\n",
    "        tasks = []\n",
    "        importance = []\n",
    "        statuses = []\n",
    "        ids = []\n",
    "        \n",
    "        if request.method == \"POST\":\n",
    "            det = request.form\n",
    "            importance_list = []\n",
    "            status_list = []\n",
    "            if 'importance1' in det:\n",
    "                importance_list.append(det['importance1'])\n",
    "            if 'importance2' in det:\n",
    "                importance_list.append(det['importance2'])\n",
    "            if 'importance3' in det:\n",
    "                importance_list.append(det['importance3'])\n",
    "    \n",
    "            if 'status1' in det:\n",
    "                status_list.append(det['status1'])\n",
    "            if 'status2' in det:\n",
    "                status_list.append(det['status2'])\n",
    "            if 'status3' in det:\n",
    "                status_list.append(det['status3'])\n",
    "           \n",
    "            if importance_list == [] and status_list == []:\n",
    "                c = driver.session().run(\"MATCH (f {nickname: $nickname})-[:HAS_TASK]->(t) return t.task_name, t.importance, t.status, t.deadline\", nickname=session['username'])\n",
    "            else:\n",
    "                base_string = 'MATCH (f {nickname: $nickname})-[:HAS_TASK]->(t)'\n",
    "                if importance_list or status_list:\n",
    "                    base_string += ' WHERE ('\n",
    "                if importance_list:\n",
    "                    for i, element in enumerate(importance_list):\n",
    "                        base_string = base_string + 't.importance = \\'' + element + '\\''\n",
    "                        if i != len(importance_list) - 1:\n",
    "                            base_string += ' OR '\n",
    "                        else:\n",
    "                            base_string += ')'\n",
    "                if status_list:\n",
    "                    if importance_list:\n",
    "                        base_string += ' AND ('\n",
    "                    for i, element in enumerate(status_list):\n",
    "                        base_string = base_string + 't.status = \\'' + element + '\\''\n",
    "                        if i != len(status_list) - 1:\n",
    "                            base_string += ' OR '\n",
    "                        else:\n",
    "                            base_string += ')'\n",
    "            base_string += ' RETURN t.task_name, t.importance, t.status, t.deadline'\n",
    "            c = driver.session().run(base_string, nickname = session['username'])\n",
    "        else:\n",
    "            c = driver.session().run(\"MATCH (f {nickname: $nickname})-[:HAS_TASK]->(t) return t.task_name, t.importance, t.status, t.deadline\", nickname=session['username'])\n",
    "        data = []\n",
    "        for i in c.data():\n",
    "                elem = [i['t.task_name'], i['t.importance'], i['t.status'], i['t.deadline']]\n",
    "                data.append(elem)\n",
    "        return render_template('home_logged_in.html', data = data, username = session['username'])"
   ]
  },
  {
   "cell_type": "code",
   "execution_count": 368,
   "metadata": {
    "collapsed": true
   },
   "outputs": [],
   "source": [
    "@app.route('/signup', methods=['GET', 'POST'])\n",
    "def sign_up():\n",
    "    if request.method == \"POST\":\n",
    "        username = request.form['username']\n",
    "        password = request.form['password']\n",
    "        c = driver.session().run(\"match (n {nickname: $nickname}) return n.nickname\", nickname = username)\n",
    "        if c.data():\n",
    "            return render_template('user_exists.html')\n",
    "        else:\n",
    "            driver.session().run(\"CREATE (f:User {nickname: $nickname, password: $password, n_of_friends: 0, n_of_requests: 0})\", nickname = username, password = password)\n",
    "            return redirect('login')\n",
    "    return render_template('sign_up.html')"
   ]
  },
  {
   "cell_type": "code",
   "execution_count": 369,
   "metadata": {
    "collapsed": true
   },
   "outputs": [],
   "source": [
    "@app.route('/login', methods=['GET', 'POST'])\n",
    "def login():\n",
    "    if request.method == \"POST\":\n",
    "        username = request.form['username']\n",
    "        password = request.form['password']\n",
    "        c = driver.session().run(\"match (n {nickname: $nickname}) return n.nickname, n.password\", nickname = username)\n",
    "        result = c.data()\n",
    "        if result:\n",
    "            if result[0]['n.password'] == password:\n",
    "                session['username'] = username\n",
    "                return redirect('home')\n",
    "            else:\n",
    "                return render_template('wrong_password.html')\n",
    "        else:\n",
    "            return render_template('no_user.html')\n",
    "    return render_template('login.html')"
   ]
  },
  {
   "cell_type": "code",
   "execution_count": 370,
   "metadata": {
    "collapsed": true
   },
   "outputs": [],
   "source": [
    "@app.route('/logout', methods=['GET', 'POST'])\n",
    "def log_out():\n",
    "    session['username'] = None\n",
    "    return redirect('/login')"
   ]
  },
  {
   "cell_type": "code",
   "execution_count": 371,
   "metadata": {
    "collapsed": true
   },
   "outputs": [],
   "source": [
    "@app.route('/new_task', methods=['GET', 'POST'])\n",
    "def new_task(): \n",
    "    if request.method == \"POST\":\n",
    "        details = request.form\n",
    "        \n",
    "        c = driver.session().run('MATCH (f {nickname: $nickname})\\\n",
    "                                CREATE (t:Task {task_name: $task_name, importance: $importance, status: $status, deadline: $deadline, creator: $nickname})\\\n",
    "                                CREATE (f)-[:HAS_TASK]->(t)', nickname = session['username'], task_name = details['tasks'], importance = details['importance'], status = details['status'], deadline = details['deadline'])\n",
    "        \n",
    "        if details['friend'] != '':\n",
    "            c = driver.session().run('MATCH (n {nickname: $nickname})-[:HAS_TASK]->(t{task_name: $task_name, importance: $importance, status: $status, deadline: $deadline, creator: $nickname})\\\n",
    "                                     MATCH (f {nickname: $friend_name}) \\\n",
    "                                     CREATE (t)-[:SEND_TASK_TO]->(f)', nickname = session['username'], friend_name = details['friend'], task_name = details['tasks'], importance = details['importance'], status = details['status'], deadline = details['deadline'])\n",
    "        return redirect('home')\n",
    "    \n",
    "    c = driver.session().run(\"MATCH (f {nickname: $nickname})-[:FRIEND_OF]->(m) return m.nickname\", nickname = session['username'])\n",
    "    f_data = c.data()\n",
    "    if f_data:\n",
    "        friends = [result['m.nickname'] for result in f_data]\n",
    "        friends.insert(0, '') \n",
    "    else:\n",
    "        friends = []\n",
    "    importance = ['не очень важно', 'важно', 'очень важно']\n",
    "    status = ['не начато', 'в процессе', 'закончено']\n",
    "    return render_template('new_task.html', status = status, importance = importance, friends=friends)"
   ]
  },
  {
   "cell_type": "code",
   "execution_count": 372,
   "metadata": {
    "collapsed": true
   },
   "outputs": [],
   "source": [
    "@app.route('/friends_tasks', methods=['GET', 'POST'])\n",
    "def check_tasks():\n",
    "    '''здесь должен глядеть задачи от друзей'''\n",
    "    c = driver.session().run(\"MATCH (t)-[:SEND_TASK_TO]->(u{nickname: $nickname}) return t.task_name, t.importance, t.status, t.deadline, t.creator\", nickname = session['username'])\n",
    "    data = c.data()\n",
    "    t_requests = []\n",
    "    if data:\n",
    "        t_requests = [[i['t.task_name'], i['t.importance'], i['t.status'], i['t.deadline'], i['t.creator']] for i in data]\n",
    "        \n",
    "    return render_template('tasks_from_fr.html', t_requests = t_requests)"
   ]
  },
  {
   "cell_type": "code",
   "execution_count": 373,
   "metadata": {
    "collapsed": true
   },
   "outputs": [],
   "source": [
    "@app.route('/reply_to_friends_tasks', methods = [\"POST\", \"GET\"])\n",
    "def reply_to_task_request():\n",
    "    if request.args.get('task_req'):\n",
    "        friendname = str(request.args.get('nickname'))\n",
    "        taskname = str(request.args.get('task_name'))\n",
    "        importance_f = str(request.args.get('importance'))\n",
    "        status_f = str(request.args.get('status'))\n",
    "        deadline_f = str(request.args.get('deadline'))\n",
    "        \n",
    "        if request.args.get('task_req') == 'Принять':\n",
    "            driver.session().run('MATCH (n {nickname: $friend_name})-[:HAS_TASK]->(t {task_name: $task_name, importance: $importance, status: $status, deadline: $deadline, creator: $friend_name})\\\n",
    "                                MATCH (f {nickname: $nickname})\\\n",
    "                                CREATE (f)-[:HAS_TASK]->(t)', nickname = session['username'], friend_name = friendname, task_name = taskname, importance = importance_f, status = status_f, deadline = deadline_f)\n",
    "\n",
    "        driver.session().run(\"MATCH (t {task_name: $task_name, importance: $importance, status: $status, deadline: $deadline, creator: $creator})-[r:SEND_TASK_TO]->(m {nickname: $nickname})\\\n",
    "                            DELETE r\", nickname = session['username'], creator = friendname, task_name = taskname, importance = importance_f, status = status_f, deadline = deadline_f)\n",
    "        return redirect('/friends_tasks')\n",
    "    else:\n",
    "        return ('You should not be here')"
   ]
  },
  {
   "cell_type": "code",
   "execution_count": 374,
   "metadata": {
    "collapsed": true
   },
   "outputs": [],
   "source": [
    "@app.route('/update', methods=['GET', 'POST'])\n",
    "def update_task():\n",
    "    data = request.args.get('data').strip('\\[\\]')\n",
    "    as_list = data.split(', ')\n",
    "    d = [i.strip('\\'') for i in as_list]\n",
    "    if request.method == \"POST\":\n",
    "        details = request.form\n",
    "        \n",
    "        driver.session().run('MATCH (f {nickname: $nickname})-[:HAS_TASK]->(t) WHERE t.task_name = $task_name AND t.importance = $importance AND t.status = $status\\\n",
    "                            SET t.importance = $new_importance, t.status = $new_status',\n",
    "                            nickname = session['username'], task_name = d[0], importance = d[1], status = d[2],\n",
    "                            new_importance = details['importance'], new_status = details['status'])\n",
    "        return redirect('home')\n",
    "    \n",
    "    importance = ['не очень важно', 'важно', 'очень важно']\n",
    "    status = ['не начато', 'в процессе', 'закончено']\n",
    "    return render_template('update_task.html', status = status, importance = importance, task = d[0])"
   ]
  },
  {
   "cell_type": "code",
   "execution_count": 375,
   "metadata": {
    "collapsed": true
   },
   "outputs": [],
   "source": [
    "@app.route('/friends', methods = ['POST', 'GET'])\n",
    "def friends():\n",
    "    c = driver.session().run(\"MATCH (f {nickname: $nickname})-[:FRIEND_OF]->(m) return m.nickname\", nickname = session['username'])\n",
    "    data = c.data()\n",
    "    if data:\n",
    "        friends_usernames = [result['m.nickname'] for result in data]\n",
    "    else:\n",
    "        friends_usernames = []\n",
    "        \n",
    "    c = driver.session().run(\"MATCH (f {nickname: $nickname})<-[:SENT_REQUEST_TO]-(m) return m.nickname\", nickname = session['username'])\n",
    "    data = c.data()\n",
    "    if data:\n",
    "        requests = [result['m.nickname'] for result in data]\n",
    "    else:\n",
    "        requests = []\n",
    "    return render_template('friends.html', usernames = friends_usernames, requests = requests)"
   ]
  },
  {
   "cell_type": "code",
   "execution_count": 376,
   "metadata": {
    "collapsed": true
   },
   "outputs": [],
   "source": [
    "@app.route('/send_request', methods = [\"POST\", \"GET\"])\n",
    "def send_request():\n",
    "    if request.args.get('username'):\n",
    "        username = request.args.get('username')\n",
    "        if username == session['username']:\n",
    "            return redirect('/home')\n",
    "        res = driver.session().run(\"MATCH (f {nickname: $nickname}) RETURN f.nickname\", nickname = username)\n",
    "        if res.data():\n",
    "            driver.session().run(\"MATCH (f {nickname: $nickname1})\\\n",
    "                                MATCH (m {nickname:$nickname2})\\\n",
    "                                CREATE (f)-[:SENT_REQUEST_TO]->(m)\",\n",
    "                                nickname1 = session['username'], nickname2 = username)\n",
    "            return redirect('/friends')\n",
    "        else:\n",
    "            return render_template('no_user.html')\n",
    "    else:    \n",
    "    \n",
    "        return ('Не получил юзернейм.')"
   ]
  },
  {
   "cell_type": "code",
   "execution_count": 377,
   "metadata": {
    "collapsed": true
   },
   "outputs": [],
   "source": [
    "@app.route('/reply_to_request', methods = [\"POST\", \"GET\"])\n",
    "def reply_to_request():\n",
    "    if request.args.get('friend_req'):\n",
    "        username = str(request.args.get('nickname'))\n",
    "        with open ('m.txt', 'w') as f:\n",
    "            f.write(username)\n",
    "        if request.args.get('friend_req') == 'Принять':\n",
    "            driver.session().run(\"MATCH (f {nickname: $nickname1})\\\n",
    "                                MATCH (m {nickname:$nickname2})\\\n",
    "                                CREATE (f)-[:FRIEND_OF]->(m)\\\n",
    "                                CREATE (f)<-[:FRIEND_OF]-(m)\",\n",
    "                                nickname1 = session['username'], nickname2 = username)\n",
    "        driver.session().run(\"MATCH (f {nickname: $nickname1})<-[r:SENT_REQUEST_TO]-(m {nickname: $nickname2})\\\n",
    "                            DELETE r\",\n",
    "                            nickname1 = session['username'], nickname2 = username)\n",
    "        return redirect('/friends')\n",
    "    else:\n",
    "        return ('You should not be here')"
   ]
  },
  {
   "cell_type": "code",
   "execution_count": 378,
   "metadata": {},
   "outputs": [],
   "source": [
    "@app.route('/submit_action', methods = [\"POST\", \"GET\"])\n",
    "def submit_action():\n",
    "    nickname = session['username']\n",
    "    if request.args.get('action')  and nickname != None:\n",
    "        action = str(request.args.get('action'))\n",
    "        if action == 'delete_friend':\n",
    "            friendname = str(request.args.get('friendname'))\n",
    "            question = \"Вы действительно хотите удалить \" + friendname + \" из друзей?\"\n",
    "            return render_template('submit_fr_deletion.html', friendname = friendname, question = question) \n",
    "        elif action == \"delete_myself\":\n",
    "            question = \"Введите пароль, чтобы удалить Ваш аккаунт.\"\n",
    "            return render_template('submit_myself_deletion.html', question = question) \n",
    "        elif action == \"delete_task\":\n",
    "            data = request.args.get('data').strip('\\[\\]')\n",
    "            as_list = data.split(', ')\n",
    "            d = [i.strip('\\'') for i in as_list]\n",
    "            question = \"Вы действительно хотите удалить задачу \\\"\" + d[0] + \"\\\"?\"\n",
    "            return render_template('submit_task_deletion.html', question = question, data = d) \n",
    "    else:\n",
    "        return ('You should not be here')"
   ]
  },
  {
   "cell_type": "code",
   "execution_count": 379,
   "metadata": {
    "collapsed": true
   },
   "outputs": [],
   "source": [
    "@app.route('/delete_task', methods=['POST', 'GET'])\n",
    "def delete():\n",
    "    if request.args.get('data'):\n",
    "        if request.args.get('task_del') == 'Да':\n",
    "            data = request.args.get('data').strip('\\[\\]')\n",
    "            as_list = data.split(', ')\n",
    "            d = [i.strip('\\'') for i in as_list]\n",
    "            c = driver.session().run('MATCH (f {nickname: $nickname})-[:HAS_TASK]->(t) WHERE t.task_name = $task_name AND t.importance = $importance AND t.status = $status\\\n",
    "                                    DETACH DELETE t',\n",
    "                                    nickname = session['username'], task_name = d[0], importance = d[1], status = d[2])\n",
    "        return redirect('home')\n",
    "    else:\n",
    "        return ('You should not be here')"
   ]
  },
  {
   "cell_type": "code",
   "execution_count": 380,
   "metadata": {},
   "outputs": [],
   "source": [
    "@app.route('/delete_friend', methods = [\"POST\", \"GET\"])\n",
    "def delete_friend():\n",
    "    if request.args.get('friend_del'):\n",
    "        friendname = str(request.args.get('friendname'))\n",
    "        if request.args.get('friend_del') == 'Да':\n",
    "            driver.session().run(\"MATCH (f {nickname: $nickname})<-[r:FRIEND_OF]->(m {nickname: $friend}) DELETE r\",\n",
    "                                 nickname = session['username'], friend = friendname)\n",
    "        return redirect('/friends')\n",
    "    else:\n",
    "        return ('You should not be here')"
   ]
  },
  {
   "cell_type": "code",
   "execution_count": 381,
   "metadata": {},
   "outputs": [],
   "source": [
    "@app.route('/delete_myself', methods = [\"POST\", \"GET\"])\n",
    "def delete_myself():    \n",
    "    if request.args.get('iwannadie'):\n",
    "        nickname = session['username']\n",
    "        password = str(request.args.get('password'))\n",
    "        c = driver.session().run(\"match (n {nickname: $nickname}) return n.nickname, n.password\", nickname = nickname)\n",
    "        result = c.data()\n",
    "        if result:\n",
    "            if result[0]['n.password'] == password:\n",
    "                driver.session().run(\"MATCH (f {nickname: $nickname}) DETACH DELETE (f)\" , nickname = nickname)\n",
    "                session['username'] = None\n",
    "                return redirect('/login')\n",
    "            else:\n",
    "                return render_template('wrong_password.html')\n",
    "        else:\n",
    "            return redirect('/home')\n",
    "    else:\n",
    "        return ('You should not be here')"
   ]
  },
  {
   "cell_type": "code",
   "execution_count": 382,
   "metadata": {
    "collapsed": true
   },
   "outputs": [],
   "source": [
    "@app.route('/<username>', methods = [\"POST\", \"GET\"])\n",
    "def profile(username):\n",
    "    c = driver.session().run(\"MATCH (n {nickname: $nickname}) return n.nickname\", nickname = username)\n",
    "    if c.data():\n",
    "        t = driver.session().run(\"MATCH (f {nickname: $nickname})-[:HAS_TASK]->(t) return t.task_name, t.importance, t.status, t.deadline\", nickname=username)\n",
    "        data = []\n",
    "        for i in t.data():\n",
    "            elem = [i['t.task_name'], i['t.importance'], i['t.status'], i['t.deadline']]\n",
    "            data.append(elem)\n",
    "        \n",
    "        if session['username']:\n",
    "            t = driver.session().run(\"MATCH (f {nickname: $nickname1})-[:FRIEND_OF]->(m {nickname: $nickname2}) RETURN f\", nickname1 = session['username'], nickname2 = username)\n",
    "            if t.data():\n",
    "                friend_str = 'Вы дружите с этим пользователем.'\n",
    "            else:\n",
    "                t = driver.session().run(\"Match path = shortestpath( (f:User {nickname:$nickname1}) –[r:FRIEND_OF *]->(p:User {nickname:$nickname2})) return length(path) as len\", nickname1 = session['username'], nickname2 = username)\n",
    "                data_path = t.data()\n",
    "                if not data_path:\n",
    "                    num = 0\n",
    "                else:\n",
    "                    num = data_path[0]['len']\n",
    "                if (num % 100 >= 11 and num % 100 <= 19) or (num % 10 >= 5 and num % 10 <= 9) or (num % 10 == 0):\n",
    "                    handshakes = ' рукопожатий.'\n",
    "                elif num % 10 == 1:\n",
    "                    handshakes = ' рукопожатие.'\n",
    "                else:\n",
    "                    handshakes = ' рукопожатия.'\n",
    "                friend_str = 'Вы связаны с этим пользователем через ' + str(num) + handshakes\n",
    "        else:\n",
    "            friend_str = 'Войдите в систему, чтобы узнать, через сколько рукопожатий вы связаны с этим пользователем.'\n",
    "        return render_template('user.html', username = username, data = data, friend_str = friend_str)\n",
    "    else:\n",
    "        return render_template('no_user.html')"
   ]
  },
  {
   "cell_type": "code",
   "execution_count": 383,
   "metadata": {},
   "outputs": [
    {
     "name": "stderr",
     "output_type": "stream",
     "text": [
      " * Running on http://127.0.0.1:5000/ (Press CTRL+C to quit)\n",
      "127.0.0.1 - - [04/Apr/2020 00:36:46] \"\u001b[37mGET /login HTTP/1.1\u001b[0m\" 200 -\n",
      "127.0.0.1 - - [04/Apr/2020 00:36:46] \"\u001b[37mGET /favicon.ico HTTP/1.1\u001b[0m\" 200 -\n",
      "127.0.0.1 - - [04/Apr/2020 00:36:59] \"\u001b[32mPOST /login HTTP/1.1\u001b[0m\" 302 -\n",
      "127.0.0.1 - - [04/Apr/2020 00:36:59] \"\u001b[37mGET /home HTTP/1.1\u001b[0m\" 200 -\n",
      "127.0.0.1 - - [04/Apr/2020 00:36:59] \"\u001b[37mGET /favicon.ico HTTP/1.1\u001b[0m\" 200 -\n",
      "127.0.0.1 - - [04/Apr/2020 00:37:09] \"\u001b[37mGET /friends HTTP/1.1\u001b[0m\" 200 -\n",
      "127.0.0.1 - - [04/Apr/2020 00:37:09] \"\u001b[37mGET /favicon.ico HTTP/1.1\u001b[0m\" 200 -\n",
      "127.0.0.1 - - [04/Apr/2020 00:37:12] \"\u001b[37mGET /ejouny HTTP/1.1\u001b[0m\" 200 -\n",
      "127.0.0.1 - - [04/Apr/2020 00:37:12] \"\u001b[37mGET /favicon.ico HTTP/1.1\u001b[0m\" 200 -\n",
      "127.0.0.1 - - [04/Apr/2020 00:37:17] \"\u001b[37mGET /friends HTTP/1.1\u001b[0m\" 200 -\n",
      "127.0.0.1 - - [04/Apr/2020 00:37:17] \"\u001b[37mGET /favicon.ico HTTP/1.1\u001b[0m\" 200 -\n",
      "127.0.0.1 - - [04/Apr/2020 00:37:22] \"\u001b[32mGET /reply_to_request?nickname=ejouny&friend_req=%D0%9F%D1%80%D0%B8%D0%BD%D1%8F%D1%82%D1%8C HTTP/1.1\u001b[0m\" 302 -\n",
      "127.0.0.1 - - [04/Apr/2020 00:37:23] \"\u001b[37mGET /friends HTTP/1.1\u001b[0m\" 200 -\n",
      "127.0.0.1 - - [04/Apr/2020 00:37:23] \"\u001b[37mGET /favicon.ico HTTP/1.1\u001b[0m\" 200 -\n"
     ]
    }
   ],
   "source": [
    "if __name__ == '__main__':\n",
    "    app.run(debug=False)"
   ]
  },
  {
   "cell_type": "code",
   "execution_count": 307,
   "metadata": {
    "collapsed": true
   },
   "outputs": [],
   "source": [
    "c = driver.session().run(\"Match path = shortestpath( (f:User {nickname:$nickname1}) –[r:FRIEND_OF *]->(p:User {nickname:$nickname2})) return length(path) as len\", nickname1 = 'fishowl', nickname2 = 'kolbasa')"
   ]
  },
  {
   "cell_type": "code",
   "execution_count": 101,
   "metadata": {
    "collapsed": true
   },
   "outputs": [],
   "source": [
    "d = c.data()"
   ]
  },
  {
   "cell_type": "code",
   "execution_count": 103,
   "metadata": {},
   "outputs": [
    {
     "name": "stdout",
     "output_type": "stream",
     "text": [
      "[]\n"
     ]
    }
   ],
   "source": [
    "print(d)"
   ]
  },
  {
   "cell_type": "code",
   "execution_count": 87,
   "metadata": {},
   "outputs": [
    {
     "data": {
      "text/plain": [
       "1"
      ]
     },
     "execution_count": 87,
     "metadata": {},
     "output_type": "execute_result"
    }
   ],
   "source": [
    "len(d[0])"
   ]
  },
  {
   "cell_type": "code",
   "execution_count": null,
   "metadata": {
    "collapsed": true
   },
   "outputs": [],
   "source": []
  }
 ],
 "metadata": {
  "kernelspec": {
   "display_name": "Python 3",
   "language": "python",
   "name": "python3"
  },
  "language_info": {
   "codemirror_mode": {
    "name": "ipython",
    "version": 3
   },
   "file_extension": ".py",
   "mimetype": "text/x-python",
   "name": "python",
   "nbconvert_exporter": "python",
   "pygments_lexer": "ipython3",
   "version": "3.6.1"
  }
 },
 "nbformat": 4,
 "nbformat_minor": 2
}
