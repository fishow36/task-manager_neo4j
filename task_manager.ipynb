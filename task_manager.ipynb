{
 "cells": [
  {
   "cell_type": "markdown",
   "metadata": {},
   "source": [
    "Как ставить написано в документации и документации.\n",
    "\n",
    "Предварительно проверьте, что у вас установлена Java 11.\n",
    "\n",
    "neo4j-admin set-initial-password ANewPassword\n",
    "\n",
    "В файле Neo4J.conf необходимо раскомментировать следующий ключ. dbms.security.auth_enabled=false Перезапускаем СУБД.\n",
    "\n",
    "Теперь заходим в админку базы данных. http://127.0.0.1:7474/"
   ]
  },
  {
   "cell_type": "code",
   "execution_count": 1,
   "metadata": {},
   "outputs": [],
   "source": [
    "from neo4j import GraphDatabase\n",
    "from flask import Flask\n",
    "from flask import url_for, render_template, request, redirect"
   ]
  },
  {
   "cell_type": "code",
   "execution_count": 2,
   "metadata": {},
   "outputs": [],
   "source": [
    "import re"
   ]
  },
  {
   "cell_type": "code",
   "execution_count": 3,
   "metadata": {},
   "outputs": [],
   "source": [
    "uri = \"bolt://localhost:7687\"\n",
    "driver = GraphDatabase.driver(uri, auth=(\"neo4j\", \"password\"), encrypted=False)"
   ]
  },
  {
   "cell_type": "code",
   "execution_count": 154,
   "metadata": {},
   "outputs": [],
   "source": [
    "app = Flask(__name__)"
   ]
  },
  {
   "cell_type": "code",
   "execution_count": 155,
   "metadata": {},
   "outputs": [],
   "source": [
    "session = {}\n",
    "session['username'] = None"
   ]
  },
  {
   "cell_type": "code",
   "execution_count": 156,
   "metadata": {},
   "outputs": [],
   "source": [
    "@app.route('/home', methods=['GET', 'POST'])\n",
    "def index():\n",
    "    if session['username'] == None:\n",
    "        return render_template('home.html')\n",
    "    else:\n",
    "        tasks = []\n",
    "        importance = []\n",
    "        statuses = []\n",
    "        ids = []\n",
    "        \n",
    "        if request.method == \"POST\":\n",
    "            det = request.form\n",
    "            importance_list = []\n",
    "            status_list = []\n",
    "            if 'importance1' in det:\n",
    "                importance_list.append(det['importance1'])\n",
    "            if 'importance2' in det:\n",
    "                importance_list.append(det['importance2'])\n",
    "            if 'importance3' in det:\n",
    "                importance_list.append(det['importance3'])\n",
    "    \n",
    "            if 'status1' in det:\n",
    "                status_list.append(det['status1'])\n",
    "            if 'status2' in det:\n",
    "                status_list.append(det['status2'])\n",
    "            if 'status3' in det:\n",
    "                status_list.append(det['status3'])\n",
    "           \n",
    "            if not importance_list and not status_list:\n",
    "                c = driver.session().run(\"MATCH (f {nickname: $nickname})-[:HAS_TASK]->(t) return t.task_name, t.importance, t.status, t.deadline\", nickname=session['username'])\n",
    "            else:\n",
    "                base_string = 'MATCH (f {nickname: $nickname})-[:HAS_TASK]->(t)'\n",
    "                if importance_list or status_list:\n",
    "                    base_string += ' WHERE ('\n",
    "                if importance_list:\n",
    "                    for i, element in enumerate(importance_list):\n",
    "                        base_string = base_string + 't.importance = \\'' + element + '\\''\n",
    "                        if i != len(importance_list) - 1:\n",
    "                            base_string += ' OR '\n",
    "                        else:\n",
    "                            base_string += ')'\n",
    "                if status_list:\n",
    "                    if importance_list:\n",
    "                        base_string += ' AND ('\n",
    "                    for i, element in enumerate(status_list):\n",
    "                        base_string = base_string + 't.status = \\'' + element + '\\''\n",
    "                        if i != len(status_list) - 1:\n",
    "                            base_string += ' OR '\n",
    "                        else:\n",
    "                            base_string += ')'\n",
    "            base_string += ' RETURN t.task_name, t.importance, t.status, t.deadline'\n",
    "            c = driver.session().run(base_string, nickname = session['username'])\n",
    "        else:\n",
    "            c = driver.session().run(\"MATCH (f {nickname: $nickname})-[:HAS_TASK]->(t) return t.task_name, t.importance, t.status, t.deadline\", nickname=session['username'])\n",
    "        data = []\n",
    "        for i in c.data():\n",
    "                elem = [i['t.task_name'], i['t.importance'], i['t.status'], i['t.deadline']]\n",
    "                data.append(elem)\n",
    "        return render_template('home_logged_in.html', data = data, username = session['username'])"
   ]
  },
  {
   "cell_type": "code",
   "execution_count": 157,
   "metadata": {},
   "outputs": [],
   "source": [
    "@app.route('/signup', methods=['GET', 'POST'])\n",
    "def sign_up():\n",
    "    if request.method == \"POST\":\n",
    "        username = request.form['username']\n",
    "        password = request.form['password']\n",
    "        c = driver.session().run(\"match (n {nickname: $nickname}) return n.nickname\", nickname = username)\n",
    "        if c.data():\n",
    "            return render_template('user_exists.html')\n",
    "        else:\n",
    "            driver.session().run(\"CREATE (f:User {nickname: $nickname, password: $password, n_of_friends: 0, n_of_requests: 0})\", nickname = username, password = password)\n",
    "            return redirect('login')\n",
    "    return render_template('sign_up.html')"
   ]
  },
  {
   "cell_type": "code",
   "execution_count": 158,
   "metadata": {},
   "outputs": [],
   "source": [
    "@app.route('/login', methods=['GET', 'POST'])\n",
    "def login():\n",
    "    if request.method == \"POST\":\n",
    "        username = request.form['username']\n",
    "        password = request.form['password']\n",
    "        c = driver.session().run(\"match (n {nickname: $nickname}) return n.nickname, n.password\", nickname = username)\n",
    "        result = c.data()\n",
    "        if result:\n",
    "            if result[0]['n.password'] == password:\n",
    "                session['username'] = username\n",
    "                return redirect('home')\n",
    "            else:\n",
    "                return render_template('wrong_password.html')\n",
    "        else:\n",
    "            return render_template('no_user.html')\n",
    "    return render_template('login.html')"
   ]
  },
  {
   "cell_type": "code",
   "execution_count": 159,
   "metadata": {},
   "outputs": [],
   "source": [
    "@app.route('/new_task', methods=['GET', 'POST'])\n",
    "def new_task(): \n",
    "    if request.method == \"POST\":\n",
    "        details = request.form\n",
    "        \n",
    "        c = driver.session().run('MATCH (f {nickname: $nickname})\\\n",
    "                                CREATE (t:Task {task_name: $task_name, importance: $importance, status: $status, deadline: $deadline})\\\n",
    "                                CREATE (f)-[:HAS_TASK]->(t)', nickname = session['username'], task_name = details['tasks'], importance = details['importance'], status = details['status'], deadline = '14.03.2021')\n",
    "        return redirect('home')\n",
    "    importance = ['не очень важно', 'важно', 'очень важно']\n",
    "    status = ['не начато', 'в процессе', 'закончено']\n",
    "    return render_template('new_task.html', status = status, importance = importance)"
   ]
  },
  {
   "cell_type": "code",
   "execution_count": 160,
   "metadata": {},
   "outputs": [],
   "source": [
    "@app.route('/delete', methods=['POST', 'GET'])\n",
    "def delete():\n",
    "    data = request.args.get('data').strip('\\[\\]')\n",
    "    as_list = data.split(', ')\n",
    "    d = [i.strip('\\'') for i in as_list]\n",
    "    c = driver.session().run('MATCH (f {nickname: $nickname})-[:HAS_TASK]->(t) WHERE t.task_name = $task_name AND t.importance = $importance AND t.status = $status\\\n",
    "                            DETACH DELETE t',\n",
    "                            nickname = session['username'], task_name = d[0], importance = d[1], status = d[2])\n",
    "    return redirect('home')"
   ]
  },
  {
   "cell_type": "code",
   "execution_count": 161,
   "metadata": {},
   "outputs": [],
   "source": [
    "@app.route('/update', methods=['GET', 'POST'])\n",
    "def update_task():\n",
    "    data = request.args.get('data').strip('\\[\\]')\n",
    "    as_list = data.split(', ')\n",
    "    d = [i.strip('\\'') for i in as_list]\n",
    "    if request.method == \"POST\":\n",
    "        details = request.form\n",
    "        \n",
    "        driver.session().run('MATCH (f {nickname: $nickname})-[:HAS_TASK]->(t) WHERE t.task_name = $task_name AND t.importance = $importance AND t.status = $status\\\n",
    "                            SET t.importance = $new_importance, t.status = $new_status',\n",
    "                            nickname = session['username'], task_name = d[0], importance = d[1], status = d[2],\n",
    "                            new_importance = details['importance'], new_status = details['status'])\n",
    "        return redirect('home')\n",
    "    \n",
    "    importance = ['не очень важно', 'важно', 'очень важно']\n",
    "    status = ['не начато', 'в процессе', 'закончено']\n",
    "    return render_template('update_task.html', status = status, importance = importance, task = d[0])"
   ]
  },
  {
   "cell_type": "code",
   "execution_count": 162,
   "metadata": {},
   "outputs": [],
   "source": [
    "@app.route('/friends', methods = ['POST', 'GET'])\n",
    "def friends():\n",
    "    c = driver.session().run(\"MATCH (f {nickname: $nickname})-[:FRIEND_OF]->(m) return m.nickname\", nickname = session['username'])\n",
    "    data = c.data()\n",
    "    if data:\n",
    "        friends_usernames = [result['m.nickname'] for result in data]\n",
    "    else:\n",
    "        friends_usernames = []\n",
    "        \n",
    "    c = driver.session().run(\"MATCH (f {nickname: $nickname})<-[:SENT_REQUEST_TO]-(m) return m.nickname\", nickname = session['username'])\n",
    "    data = c.data()\n",
    "    if data:\n",
    "        requests = [result['m.nickname'] for result in data]\n",
    "    else:\n",
    "        requests = []\n",
    "    return render_template('friends.html', usernames = friends_usernames, requests = requests)"
   ]
  },
  {
   "cell_type": "code",
   "execution_count": 163,
   "metadata": {},
   "outputs": [],
   "source": [
    "@app.route('/send_request', methods = [\"POST\", \"GET\"])\n",
    "def send_request():\n",
    "    if request.args.get('username'):\n",
    "        username = request.args.get('username')\n",
    "        if username == session['username']:\n",
    "            return redirect('/home')\n",
    "        res = driver.session().run(\"MATCH (f {nickname: $nickname}) RETURN f.nickname\", nickname = username)\n",
    "        if res:\n",
    "            driver.session().run(\"MATCH (f {nickname: $nickname1})\\\n",
    "                                MATCH (m {nickname:$nickname2})\\\n",
    "                                CREATE (f)-[:SENT_REQUEST_TO]->(m)\",\n",
    "                                nickname1 = session['username'], nickname2 = username)\n",
    "            return redirect('/friends')\n",
    "        else:\n",
    "            return render_template('no_user.html')\n",
    "    else:    \n",
    "    \n",
    "        return ('Не получил юзернейм.')"
   ]
  },
  {
   "cell_type": "code",
   "execution_count": 164,
   "metadata": {},
   "outputs": [],
   "source": [
    "@app.route('/reply_to_request', methods = [\"POST\", \"GET\"])\n",
    "def reply_to_request():\n",
    "    if request.args.get('friend_req'):\n",
    "        username = str(request.args.get('nickname'))\n",
    "        with open ('m.txt', 'w') as f:\n",
    "            f.write(username)\n",
    "        if request.args.get('friend_req') == 'Принять':\n",
    "            driver.session().run(\"MATCH (f {nickname: $nickname1})\\\n",
    "                                MATCH (m {nickname:$nickname2})\\\n",
    "                                CREATE (f)-[:FRIEND_OF]->(m)\\\n",
    "                                CREATE (f)<-[:FRIEND_OF]-(m)\",\n",
    "                                nickname1 = session['username'], nickname2 = username)\n",
    "        driver.session().run(\"MATCH (f {nickname: $nickname1})<-[r:SENT_REQUEST_TO]-(m {nickname: $nickname2})\\\n",
    "                            DELETE r\",\n",
    "                            nickname1 = session['username'], nickname2 = username)\n",
    "        return redirect('/friends')\n",
    "    else:\n",
    "        return ('You should not be here')"
   ]
  },
  {
   "cell_type": "code",
   "execution_count": 165,
   "metadata": {},
   "outputs": [
    {
     "name": "stdout",
     "output_type": "stream",
     "text": [
      " * Serving Flask app \"__main__\" (lazy loading)\n",
      " * Environment: production\n",
      "   WARNING: This is a development server. Do not use it in a production deployment.\n",
      "   Use a production WSGI server instead.\n",
      " * Debug mode: off\n"
     ]
    },
    {
     "name": "stderr",
     "output_type": "stream",
     "text": [
      " * Running on http://127.0.0.1:5000/ (Press CTRL+C to quit)\n",
      "127.0.0.1 - - [31/Mar/2020 00:30:56] \"GET /login HTTP/1.1\" 200 -\n",
      "127.0.0.1 - - [31/Mar/2020 00:30:57] \"POST /login HTTP/1.1\" 302 -\n",
      "127.0.0.1 - - [31/Mar/2020 00:30:57] \"GET /home HTTP/1.1\" 200 -\n",
      "127.0.0.1 - - [31/Mar/2020 00:30:58] \"GET /friends HTTP/1.1\" 200 -\n",
      "127.0.0.1 - - [31/Mar/2020 00:31:01] \"GET /reply_to_request?nickname=mcqueen&friend_req=Принять HTTP/1.1\" 302 -\n",
      "127.0.0.1 - - [31/Mar/2020 00:31:01] \"GET /friends HTTP/1.1\" 200 -\n",
      "127.0.0.1 - - [31/Mar/2020 00:31:07] \"GET /send_request?username=ejouny HTTP/1.1\" 302 -\n",
      "127.0.0.1 - - [31/Mar/2020 00:31:07] \"GET /friends HTTP/1.1\" 200 -\n",
      "127.0.0.1 - - [31/Mar/2020 00:31:08] \"GET /send_request?username= HTTP/1.1\" 200 -\n",
      "127.0.0.1 - - [31/Mar/2020 00:31:12] \"GET /login HTTP/1.1\" 200 -\n",
      "127.0.0.1 - - [31/Mar/2020 00:31:20] \"POST /login HTTP/1.1\" 302 -\n",
      "127.0.0.1 - - [31/Mar/2020 00:31:20] \"GET /home HTTP/1.1\" 200 -\n",
      "127.0.0.1 - - [31/Mar/2020 00:31:23] \"GET /friends HTTP/1.1\" 200 -\n",
      "127.0.0.1 - - [31/Mar/2020 00:31:27] \"GET /reply_to_request?nickname=hacker228&friend_req=Отклонить HTTP/1.1\" 302 -\n",
      "127.0.0.1 - - [31/Mar/2020 00:31:27] \"GET /friends HTTP/1.1\" 200 -\n",
      "127.0.0.1 - - [31/Mar/2020 00:31:37] \"GET /send_request?username=brouhahaha HTTP/1.1\" 302 -\n",
      "127.0.0.1 - - [31/Mar/2020 00:31:37] \"GET /friends HTTP/1.1\" 200 -\n",
      "127.0.0.1 - - [31/Mar/2020 00:31:38] \"GET /login HTTP/1.1\" 200 -\n",
      "127.0.0.1 - - [31/Mar/2020 00:31:44] \"POST /login HTTP/1.1\" 302 -\n",
      "127.0.0.1 - - [31/Mar/2020 00:31:44] \"GET /home HTTP/1.1\" 200 -\n",
      "127.0.0.1 - - [31/Mar/2020 00:31:47] \"GET /friends HTTP/1.1\" 200 -\n",
      "127.0.0.1 - - [31/Mar/2020 00:31:49] \"GET /reply_to_request?nickname=ejouny&friend_req=Принять HTTP/1.1\" 302 -\n",
      "127.0.0.1 - - [31/Mar/2020 00:31:49] \"GET /friends HTTP/1.1\" 200 -\n",
      "127.0.0.1 - - [31/Mar/2020 00:42:14] \"GET /home HTTP/1.1\" 200 -\n",
      "127.0.0.1 - - [31/Mar/2020 00:42:16] \"GET /new_task HTTP/1.1\" 200 -\n",
      "127.0.0.1 - - [31/Mar/2020 00:42:23] \"POST /new_task HTTP/1.1\" 302 -\n",
      "127.0.0.1 - - [31/Mar/2020 00:42:23] \"GET /home HTTP/1.1\" 200 -\n",
      "127.0.0.1 - - [31/Mar/2020 00:42:27] \"GET /new_task HTTP/1.1\" 200 -\n",
      "127.0.0.1 - - [31/Mar/2020 00:42:33] \"POST /new_task HTTP/1.1\" 302 -\n",
      "127.0.0.1 - - [31/Mar/2020 00:42:33] \"GET /home HTTP/1.1\" 200 -\n",
      "127.0.0.1 - - [31/Mar/2020 00:42:35] \"GET /new_task HTTP/1.1\" 200 -\n",
      "127.0.0.1 - - [31/Mar/2020 00:42:46] \"POST /new_task HTTP/1.1\" 302 -\n",
      "127.0.0.1 - - [31/Mar/2020 00:42:46] \"GET /home HTTP/1.1\" 200 -\n",
      "127.0.0.1 - - [31/Mar/2020 00:42:49] \"POST /home HTTP/1.1\" 200 -\n",
      "127.0.0.1 - - [31/Mar/2020 00:42:53] \"POST /home HTTP/1.1\" 200 -\n",
      "127.0.0.1 - - [31/Mar/2020 00:42:57] \"GET /new_task HTTP/1.1\" 200 -\n",
      "127.0.0.1 - - [31/Mar/2020 00:42:59] \"POST /new_task HTTP/1.1\" 302 -\n",
      "127.0.0.1 - - [31/Mar/2020 00:42:59] \"GET /home HTTP/1.1\" 200 -\n",
      "127.0.0.1 - - [31/Mar/2020 00:43:00] \"GET /home HTTP/1.1\" 200 -\n",
      "127.0.0.1 - - [31/Mar/2020 00:43:02] \"GET /delete?data=%5B%27авы%27%2C+%27не+очень+важно%27%2C+%27не+начато%27%2C+%2714.03.2021%27%5D&x=18&y=12 HTTP/1.1\" 302 -\n",
      "127.0.0.1 - - [31/Mar/2020 00:43:02] \"GET /home HTTP/1.1\" 200 -\n",
      "127.0.0.1 - - [31/Mar/2020 00:43:17] \"GET /friends HTTP/1.1\" 200 -\n",
      "127.0.0.1 - - [31/Mar/2020 00:43:21] \"GET /send_request?username=mcqueen HTTP/1.1\" 302 -\n",
      "127.0.0.1 - - [31/Mar/2020 00:43:21] \"GET /friends HTTP/1.1\" 200 -\n"
     ]
    }
   ],
   "source": [
    "if __name__ == '__main__':\n",
    "    app.run(debug=False)"
   ]
  },
  {
   "cell_type": "code",
   "execution_count": 113,
   "metadata": {},
   "outputs": [],
   "source": [
    "c = driver.session().run(\"MATCH (f {nickname: 'mcqueen'})<-[:SENT_REQUEST_TO]-(m) return m.nickname\")"
   ]
  },
  {
   "cell_type": "code",
   "execution_count": 114,
   "metadata": {},
   "outputs": [
    {
     "data": {
      "text/plain": [
       "[{'m.nickname': 'fishowl'}]"
      ]
     },
     "execution_count": 114,
     "metadata": {},
     "output_type": "execute_result"
    }
   ],
   "source": [
    "c.data()"
   ]
  },
  {
   "cell_type": "code",
   "execution_count": null,
   "metadata": {},
   "outputs": [],
   "source": []
  }
 ],
 "metadata": {
  "kernelspec": {
   "display_name": "Python 3",
   "language": "python",
   "name": "python3"
  },
  "language_info": {
   "codemirror_mode": {
    "name": "ipython",
    "version": 3
   },
   "file_extension": ".py",
   "mimetype": "text/x-python",
   "name": "python",
   "nbconvert_exporter": "python",
   "pygments_lexer": "ipython3",
   "version": "3.6.9"
  }
 },
 "nbformat": 4,
 "nbformat_minor": 2
}
